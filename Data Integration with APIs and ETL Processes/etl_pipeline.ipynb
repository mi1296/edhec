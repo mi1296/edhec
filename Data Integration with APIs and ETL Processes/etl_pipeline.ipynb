# ETL Pipeline for Financial Time Series Data

**Madhumitha ICHAPURAM - M1 Data Science and AI for Business**

1. Extracts intraday data from a financial API (e.g., Alpha Vantage)
2. Transforms the data: renaming, type conversion, cleaning
3. Loads the data into a local SQLite database

# Import required libraries for API access, data manipulation, and database interaction
import requests
import pandas as pd
from sqlalchemy import create_engine, text
