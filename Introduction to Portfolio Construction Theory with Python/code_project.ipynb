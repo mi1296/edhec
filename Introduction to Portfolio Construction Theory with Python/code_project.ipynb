{
 "cells": [
  {
   "cell_type": "code",
   "execution_count": 100,
   "metadata": {},
   "outputs": [
    {
     "name": "stdout",
     "output_type": "stream",
     "text": [
      "The autoreload extension is already loaded. To reload it, use:\n",
      "  %reload_ext autoreload\n"
     ]
    }
   ],
   "source": [
    "%load_ext autoreload\n",
    "%autoreload 2"
   ]
  },
  {
   "cell_type": "code",
   "execution_count": 106,
   "metadata": {},
   "outputs": [],
   "source": [
    "import pandas as pd\n",
    "import yfinance as yf\n",
    "import numpy as np\n",
    "import edhec_risk_kit as erk\n",
    "import matplotlib.pyplot as plt"
   ]
  },
  {
   "cell_type": "code",
   "execution_count": 107,
   "metadata": {},
   "outputs": [],
   "source": [
    "def data_collection(ticker_file):\n",
    "    start_date = '2010-01-01'\n",
    "    end_date = '2020-01-01'\n",
    "    ticker = pd.read_json(f\"{ticker_file}.json\")[\"ticker\"].to_list()\n",
    "    data = yf.download(ticker, start_date, end_date)\n",
    "    data.to_csv(\"ticker_data.csv\")\n",
    "    price_df = data['Close']\n",
    "    price_df.to_csv(\"portfolio.csv\")\n",
    "    return price_df"
   ]
  },
  {
   "cell_type": "code",
   "execution_count": 109,
   "metadata": {},
   "outputs": [
    {
     "name": "stderr",
     "output_type": "stream",
     "text": [
      "[*********************100%***********************]  20 of 20 completed\n"
     ]
    },
    {
     "data": {
      "text/html": [
       "<div>\n",
       "<style scoped>\n",
       "    .dataframe tbody tr th:only-of-type {\n",
       "        vertical-align: middle;\n",
       "    }\n",
       "\n",
       "    .dataframe tbody tr th {\n",
       "        vertical-align: top;\n",
       "    }\n",
       "\n",
       "    .dataframe thead th {\n",
       "        text-align: right;\n",
       "    }\n",
       "</style>\n",
       "<table border=\"1\" class=\"dataframe\">\n",
       "  <thead>\n",
       "    <tr style=\"text-align: right;\">\n",
       "      <th>Ticker</th>\n",
       "      <th>AAPL</th>\n",
       "      <th>BCS</th>\n",
       "      <th>BKR</th>\n",
       "      <th>BTI</th>\n",
       "      <th>C</th>\n",
       "      <th>CIVVX</th>\n",
       "      <th>FDBAX</th>\n",
       "      <th>GOOGL</th>\n",
       "      <th>HYG</th>\n",
       "      <th>IGLB</th>\n",
       "      <th>JPM</th>\n",
       "      <th>MSFT</th>\n",
       "      <th>NKE</th>\n",
       "      <th>NVDA</th>\n",
       "      <th>ORCL</th>\n",
       "      <th>PFE</th>\n",
       "      <th>RYVLX</th>\n",
       "      <th>SMPIX</th>\n",
       "      <th>UNH</th>\n",
       "      <th>XOM</th>\n",
       "    </tr>\n",
       "    <tr>\n",
       "      <th>Date</th>\n",
       "      <th></th>\n",
       "      <th></th>\n",
       "      <th></th>\n",
       "      <th></th>\n",
       "      <th></th>\n",
       "      <th></th>\n",
       "      <th></th>\n",
       "      <th></th>\n",
       "      <th></th>\n",
       "      <th></th>\n",
       "      <th></th>\n",
       "      <th></th>\n",
       "      <th></th>\n",
       "      <th></th>\n",
       "      <th></th>\n",
       "      <th></th>\n",
       "      <th></th>\n",
       "      <th></th>\n",
       "      <th></th>\n",
       "      <th></th>\n",
       "    </tr>\n",
       "  </thead>\n",
       "  <tbody>\n",
       "    <tr>\n",
       "      <th>2010-01-04</th>\n",
       "      <td>7.643214</td>\n",
       "      <td>16.894009</td>\n",
       "      <td>41.240002</td>\n",
       "      <td>32.605000</td>\n",
       "      <td>34.000000</td>\n",
       "      <td>11.49</td>\n",
       "      <td>8.79</td>\n",
       "      <td>15.684434</td>\n",
       "      <td>88.529999</td>\n",
       "      <td>50.650002</td>\n",
       "      <td>42.849998</td>\n",
       "      <td>30.950001</td>\n",
       "      <td>16.337500</td>\n",
       "      <td>0.46225</td>\n",
       "      <td>24.850000</td>\n",
       "      <td>17.960152</td>\n",
       "      <td>18.226000</td>\n",
       "      <td>13.210000</td>\n",
       "      <td>31.530001</td>\n",
       "      <td>69.150002</td>\n",
       "    </tr>\n",
       "    <tr>\n",
       "      <th>2010-01-05</th>\n",
       "      <td>7.656429</td>\n",
       "      <td>17.824884</td>\n",
       "      <td>43.660000</td>\n",
       "      <td>32.570000</td>\n",
       "      <td>35.299999</td>\n",
       "      <td>11.50</td>\n",
       "      <td>8.83</td>\n",
       "      <td>15.615365</td>\n",
       "      <td>88.949997</td>\n",
       "      <td>51.180000</td>\n",
       "      <td>43.680000</td>\n",
       "      <td>30.959999</td>\n",
       "      <td>16.402500</td>\n",
       "      <td>0.46900</td>\n",
       "      <td>24.820000</td>\n",
       "      <td>17.703985</td>\n",
       "      <td>18.252001</td>\n",
       "      <td>13.190000</td>\n",
       "      <td>31.480000</td>\n",
       "      <td>69.419998</td>\n",
       "    </tr>\n",
       "    <tr>\n",
       "      <th>2010-01-06</th>\n",
       "      <td>7.534643</td>\n",
       "      <td>18.129032</td>\n",
       "      <td>45.840000</td>\n",
       "      <td>32.465000</td>\n",
       "      <td>36.400002</td>\n",
       "      <td>11.60</td>\n",
       "      <td>8.83</td>\n",
       "      <td>15.221722</td>\n",
       "      <td>89.180000</td>\n",
       "      <td>51.180000</td>\n",
       "      <td>43.919998</td>\n",
       "      <td>30.770000</td>\n",
       "      <td>16.302500</td>\n",
       "      <td>0.47200</td>\n",
       "      <td>24.459999</td>\n",
       "      <td>17.647058</td>\n",
       "      <td>18.056000</td>\n",
       "      <td>13.140000</td>\n",
       "      <td>31.790001</td>\n",
       "      <td>70.019997</td>\n",
       "    </tr>\n",
       "    <tr>\n",
       "      <th>2010-01-07</th>\n",
       "      <td>7.520714</td>\n",
       "      <td>18.801844</td>\n",
       "      <td>46.169998</td>\n",
       "      <td>32.685001</td>\n",
       "      <td>36.500000</td>\n",
       "      <td>11.53</td>\n",
       "      <td>8.85</td>\n",
       "      <td>14.867367</td>\n",
       "      <td>89.540001</td>\n",
       "      <td>51.150002</td>\n",
       "      <td>44.790001</td>\n",
       "      <td>30.450001</td>\n",
       "      <td>16.462500</td>\n",
       "      <td>0.46275</td>\n",
       "      <td>24.379999</td>\n",
       "      <td>17.580645</td>\n",
       "      <td>18.030001</td>\n",
       "      <td>12.960000</td>\n",
       "      <td>33.009998</td>\n",
       "      <td>69.800003</td>\n",
       "    </tr>\n",
       "    <tr>\n",
       "      <th>2010-01-08</th>\n",
       "      <td>7.570714</td>\n",
       "      <td>18.967743</td>\n",
       "      <td>47.099998</td>\n",
       "      <td>32.505001</td>\n",
       "      <td>35.900002</td>\n",
       "      <td>11.68</td>\n",
       "      <td>8.87</td>\n",
       "      <td>15.065566</td>\n",
       "      <td>89.680000</td>\n",
       "      <td>51.130001</td>\n",
       "      <td>44.680000</td>\n",
       "      <td>30.660000</td>\n",
       "      <td>16.430000</td>\n",
       "      <td>0.46375</td>\n",
       "      <td>24.680000</td>\n",
       "      <td>17.722960</td>\n",
       "      <td>18.327999</td>\n",
       "      <td>13.230000</td>\n",
       "      <td>32.700001</td>\n",
       "      <td>69.519997</td>\n",
       "    </tr>\n",
       "    <tr>\n",
       "      <th>...</th>\n",
       "      <td>...</td>\n",
       "      <td>...</td>\n",
       "      <td>...</td>\n",
       "      <td>...</td>\n",
       "      <td>...</td>\n",
       "      <td>...</td>\n",
       "      <td>...</td>\n",
       "      <td>...</td>\n",
       "      <td>...</td>\n",
       "      <td>...</td>\n",
       "      <td>...</td>\n",
       "      <td>...</td>\n",
       "      <td>...</td>\n",
       "      <td>...</td>\n",
       "      <td>...</td>\n",
       "      <td>...</td>\n",
       "      <td>...</td>\n",
       "      <td>...</td>\n",
       "      <td>...</td>\n",
       "      <td>...</td>\n",
       "    </tr>\n",
       "    <tr>\n",
       "      <th>2019-12-24</th>\n",
       "      <td>71.067497</td>\n",
       "      <td>9.380000</td>\n",
       "      <td>25.480000</td>\n",
       "      <td>42.799999</td>\n",
       "      <td>78.589996</td>\n",
       "      <td>15.43</td>\n",
       "      <td>9.54</td>\n",
       "      <td>67.221497</td>\n",
       "      <td>87.830002</td>\n",
       "      <td>66.769997</td>\n",
       "      <td>137.580002</td>\n",
       "      <td>157.380005</td>\n",
       "      <td>100.139999</td>\n",
       "      <td>5.96550</td>\n",
       "      <td>53.439999</td>\n",
       "      <td>37.277039</td>\n",
       "      <td>191.059998</td>\n",
       "      <td>57.369999</td>\n",
       "      <td>294.540009</td>\n",
       "      <td>70.019997</td>\n",
       "    </tr>\n",
       "    <tr>\n",
       "      <th>2019-12-26</th>\n",
       "      <td>72.477501</td>\n",
       "      <td>9.420000</td>\n",
       "      <td>25.559999</td>\n",
       "      <td>42.250000</td>\n",
       "      <td>79.830002</td>\n",
       "      <td>15.48</td>\n",
       "      <td>9.55</td>\n",
       "      <td>68.123497</td>\n",
       "      <td>87.959999</td>\n",
       "      <td>66.970001</td>\n",
       "      <td>139.039993</td>\n",
       "      <td>158.669998</td>\n",
       "      <td>100.709999</td>\n",
       "      <td>5.97975</td>\n",
       "      <td>53.570000</td>\n",
       "      <td>37.362431</td>\n",
       "      <td>194.490005</td>\n",
       "      <td>57.490002</td>\n",
       "      <td>295.649994</td>\n",
       "      <td>70.129997</td>\n",
       "    </tr>\n",
       "    <tr>\n",
       "      <th>2019-12-27</th>\n",
       "      <td>72.449997</td>\n",
       "      <td>9.450000</td>\n",
       "      <td>25.490000</td>\n",
       "      <td>42.520000</td>\n",
       "      <td>79.669998</td>\n",
       "      <td>15.56</td>\n",
       "      <td>9.55</td>\n",
       "      <td>67.732002</td>\n",
       "      <td>87.919998</td>\n",
       "      <td>67.029999</td>\n",
       "      <td>139.139999</td>\n",
       "      <td>158.960007</td>\n",
       "      <td>101.570000</td>\n",
       "      <td>5.92175</td>\n",
       "      <td>53.459999</td>\n",
       "      <td>37.305504</td>\n",
       "      <td>194.110001</td>\n",
       "      <td>57.250000</td>\n",
       "      <td>295.970001</td>\n",
       "      <td>69.889999</td>\n",
       "    </tr>\n",
       "    <tr>\n",
       "      <th>2019-12-30</th>\n",
       "      <td>72.879997</td>\n",
       "      <td>9.420000</td>\n",
       "      <td>25.629999</td>\n",
       "      <td>42.459999</td>\n",
       "      <td>79.510002</td>\n",
       "      <td>15.50</td>\n",
       "      <td>9.55</td>\n",
       "      <td>66.985497</td>\n",
       "      <td>87.860001</td>\n",
       "      <td>67.059998</td>\n",
       "      <td>138.630005</td>\n",
       "      <td>157.589996</td>\n",
       "      <td>100.800003</td>\n",
       "      <td>5.80800</td>\n",
       "      <td>52.700001</td>\n",
       "      <td>36.916508</td>\n",
       "      <td>191.389999</td>\n",
       "      <td>57.250000</td>\n",
       "      <td>293.850006</td>\n",
       "      <td>69.480003</td>\n",
       "    </tr>\n",
       "    <tr>\n",
       "      <th>2019-12-31</th>\n",
       "      <td>73.412498</td>\n",
       "      <td>9.520000</td>\n",
       "      <td>25.629999</td>\n",
       "      <td>42.459999</td>\n",
       "      <td>79.889999</td>\n",
       "      <td>15.51</td>\n",
       "      <td>9.53</td>\n",
       "      <td>66.969498</td>\n",
       "      <td>87.940002</td>\n",
       "      <td>66.669998</td>\n",
       "      <td>139.399994</td>\n",
       "      <td>157.699997</td>\n",
       "      <td>101.309998</td>\n",
       "      <td>5.88250</td>\n",
       "      <td>52.980000</td>\n",
       "      <td>37.172676</td>\n",
       "      <td>192.350006</td>\n",
       "      <td>56.459999</td>\n",
       "      <td>293.980011</td>\n",
       "      <td>69.779999</td>\n",
       "    </tr>\n",
       "  </tbody>\n",
       "</table>\n",
       "<p>2516 rows × 20 columns</p>\n",
       "</div>"
      ],
      "text/plain": [
       "Ticker           AAPL        BCS        BKR        BTI          C  CIVVX  \\\n",
       "Date                                                                       \n",
       "2010-01-04   7.643214  16.894009  41.240002  32.605000  34.000000  11.49   \n",
       "2010-01-05   7.656429  17.824884  43.660000  32.570000  35.299999  11.50   \n",
       "2010-01-06   7.534643  18.129032  45.840000  32.465000  36.400002  11.60   \n",
       "2010-01-07   7.520714  18.801844  46.169998  32.685001  36.500000  11.53   \n",
       "2010-01-08   7.570714  18.967743  47.099998  32.505001  35.900002  11.68   \n",
       "...               ...        ...        ...        ...        ...    ...   \n",
       "2019-12-24  71.067497   9.380000  25.480000  42.799999  78.589996  15.43   \n",
       "2019-12-26  72.477501   9.420000  25.559999  42.250000  79.830002  15.48   \n",
       "2019-12-27  72.449997   9.450000  25.490000  42.520000  79.669998  15.56   \n",
       "2019-12-30  72.879997   9.420000  25.629999  42.459999  79.510002  15.50   \n",
       "2019-12-31  73.412498   9.520000  25.629999  42.459999  79.889999  15.51   \n",
       "\n",
       "Ticker      FDBAX      GOOGL        HYG       IGLB         JPM        MSFT  \\\n",
       "Date                                                                         \n",
       "2010-01-04   8.79  15.684434  88.529999  50.650002   42.849998   30.950001   \n",
       "2010-01-05   8.83  15.615365  88.949997  51.180000   43.680000   30.959999   \n",
       "2010-01-06   8.83  15.221722  89.180000  51.180000   43.919998   30.770000   \n",
       "2010-01-07   8.85  14.867367  89.540001  51.150002   44.790001   30.450001   \n",
       "2010-01-08   8.87  15.065566  89.680000  51.130001   44.680000   30.660000   \n",
       "...           ...        ...        ...        ...         ...         ...   \n",
       "2019-12-24   9.54  67.221497  87.830002  66.769997  137.580002  157.380005   \n",
       "2019-12-26   9.55  68.123497  87.959999  66.970001  139.039993  158.669998   \n",
       "2019-12-27   9.55  67.732002  87.919998  67.029999  139.139999  158.960007   \n",
       "2019-12-30   9.55  66.985497  87.860001  67.059998  138.630005  157.589996   \n",
       "2019-12-31   9.53  66.969498  87.940002  66.669998  139.399994  157.699997   \n",
       "\n",
       "Ticker             NKE     NVDA       ORCL        PFE       RYVLX      SMPIX  \\\n",
       "Date                                                                           \n",
       "2010-01-04   16.337500  0.46225  24.850000  17.960152   18.226000  13.210000   \n",
       "2010-01-05   16.402500  0.46900  24.820000  17.703985   18.252001  13.190000   \n",
       "2010-01-06   16.302500  0.47200  24.459999  17.647058   18.056000  13.140000   \n",
       "2010-01-07   16.462500  0.46275  24.379999  17.580645   18.030001  12.960000   \n",
       "2010-01-08   16.430000  0.46375  24.680000  17.722960   18.327999  13.230000   \n",
       "...                ...      ...        ...        ...         ...        ...   \n",
       "2019-12-24  100.139999  5.96550  53.439999  37.277039  191.059998  57.369999   \n",
       "2019-12-26  100.709999  5.97975  53.570000  37.362431  194.490005  57.490002   \n",
       "2019-12-27  101.570000  5.92175  53.459999  37.305504  194.110001  57.250000   \n",
       "2019-12-30  100.800003  5.80800  52.700001  36.916508  191.389999  57.250000   \n",
       "2019-12-31  101.309998  5.88250  52.980000  37.172676  192.350006  56.459999   \n",
       "\n",
       "Ticker             UNH        XOM  \n",
       "Date                               \n",
       "2010-01-04   31.530001  69.150002  \n",
       "2010-01-05   31.480000  69.419998  \n",
       "2010-01-06   31.790001  70.019997  \n",
       "2010-01-07   33.009998  69.800003  \n",
       "2010-01-08   32.700001  69.519997  \n",
       "...                ...        ...  \n",
       "2019-12-24  294.540009  70.019997  \n",
       "2019-12-26  295.649994  70.129997  \n",
       "2019-12-27  295.970001  69.889999  \n",
       "2019-12-30  293.850006  69.480003  \n",
       "2019-12-31  293.980011  69.779999  \n",
       "\n",
       "[2516 rows x 20 columns]"
      ]
     },
     "execution_count": 109,
     "metadata": {},
     "output_type": "execute_result"
    }
   ],
   "source": [
    "data_collection(ticker_file=\"ticker\")"
   ]
  },
  {
   "cell_type": "markdown",
   "metadata": {},
   "source": [
    "# Preparing the Data"
   ]
  },
  {
   "cell_type": "code",
   "execution_count": 110,
   "metadata": {},
   "outputs": [],
   "source": [
    "# load data\n",
    "portfolio_file_path = \"portfolio.csv\"\n",
    "portfolio_data = pd.read_csv(portfolio_file_path)\n",
    "\n",
    "# convert Data column to datetime\n",
    "portfolio_data['Date'] = pd.to_datetime(portfolio_data['Date'])\n",
    "portfolio_data.set_index('Date', inplace=True)\n",
    "\n",
    "# Calculate daily returns \n",
    "returns = portfolio_data.pct_change().dropna()"
   ]
  },
  {
   "cell_type": "markdown",
   "metadata": {},
   "source": [
    "# Equally-Weighted Portfolio"
   ]
  },
  {
   "cell_type": "code",
   "execution_count": null,
   "metadata": {},
   "outputs": [
    {
     "name": "stdout",
     "output_type": "stream",
     "text": [
      "Equal-Weighted Portfolio:\n",
      "Return: 0.0005153202102978221\n",
      "Volatility: 0.01020914621670911\n"
     ]
    }
   ],
   "source": [
    "# Number of assets\n",
    "n_assets = returns.shape[1]\n",
    "\n",
    "# Equal weights\n",
    "weights_ew = np.array([1/n_assets] * n_assets)\n",
    "\n",
    "# Portfolio return and volatility\n",
    "port_return_ew = erk.portfolio_return(weights_ew, returns.mean().values)\n",
    "port_vol_ew = erk.portfolio_vol(weights_ew, returns.cov().values)\n",
    "\n",
    "print(\"Equal-Weighted Portfolio:\")\n",
    "print(f\"Return: {port_return_ew}\")\n",
    "print(f\"Volatility: {port_vol_ew}\")"
   ]
  },
  {
   "cell_type": "markdown",
   "metadata": {},
   "source": [
    "# Global Minimum Volatility Portfolio (GMV)"
   ]
  },
  {
   "cell_type": "code",
   "execution_count": 111,
   "metadata": {},
   "outputs": [
    {
     "name": "stdout",
     "output_type": "stream",
     "text": [
      "GMV Portfolio:\n",
      "Return: 5.782686983932126e-05\n",
      "Volatility: 0.0020320089227176172\n"
     ]
    }
   ],
   "source": [
    "# Covariance matrix\n",
    "cov_matrix = returns.cov()\n",
    "\n",
    "# GMV weights\n",
    "weights_gmv = erk.gmv(cov_matrix)\n",
    "\n",
    "#Portfolio return and volatility\n",
    "port_return_gmv = erk.portfolio_return(weights_gmv, returns.mean())\n",
    "port_vol_gmv = erk.portfolio_vol(weights_gmv, cov_matrix)\n",
    "\n",
    "print(\"GMV Portfolio:\")\n",
    "print(f\"Return: {port_return_gmv}\")\n",
    "print(f\"Volatility: {port_vol_gmv}\")"
   ]
  },
  {
   "cell_type": "markdown",
   "metadata": {},
   "source": [
    "# Maximum Sharpe Ratio Portfolio (MSR)"
   ]
  },
  {
   "cell_type": "code",
   "execution_count": 117,
   "metadata": {},
   "outputs": [
    {
     "name": "stdout",
     "output_type": "stream",
     "text": [
      "MSR Portfolio:\n",
      "Return: 0.0006931147992111175\n",
      "Volatility: 0.007389627353999674\n"
     ]
    }
   ],
   "source": [
    "risk_free_rate = 0.02 # Annualized risk-free rate\n",
    "risk_free_rate /= 252 # Convert to daily rate\n",
    "\n",
    "# MSR weights\n",
    "weights_msr = erk.msr(risk_free_rate, returns.mean(), cov_matrix)\n",
    "\n",
    "# Portfolio return and volatility\n",
    "port_return_msr = erk.portfolio_return(weights_msr, returns.mean())\n",
    "port_vol_msr = erk.portfolio_vol(weights_msr, cov_matrix)\n",
    "\n",
    "print(\"MSR Portfolio:\")\n",
    "print(f\"Return: {port_return_msr}\")\n",
    "print(f\"Volatility: {port_vol_msr}\")"
   ]
  },
  {
   "cell_type": "markdown",
   "metadata": {},
   "source": [
    "# Efficient Frontier"
   ]
  },
  {
   "cell_type": "code",
   "execution_count": 119,
   "metadata": {},
   "outputs": [
    {
     "name": "stderr",
     "output_type": "stream",
     "text": [
      "c:\\Users\\jvris\\OneDrive\\Desktop\\EDHEC_Courses\\pct mooc\\group_project\\edhec_risk_kit.py:36: SyntaxWarning: \"is\" with 'str' literal. Did you mean \"==\"?\n",
      "  if filetype is \"returns\":\n",
      "c:\\Users\\jvris\\OneDrive\\Desktop\\EDHEC_Courses\\pct mooc\\group_project\\edhec_risk_kit.py:39: SyntaxWarning: \"is\" with 'str' literal. Did you mean \"==\"?\n",
      "  elif filetype is \"nfirms\":\n",
      "c:\\Users\\jvris\\OneDrive\\Desktop\\EDHEC_Courses\\pct mooc\\group_project\\edhec_risk_kit.py:42: SyntaxWarning: \"is\" with 'str' literal. Did you mean \"==\"?\n",
      "  elif filetype is \"size\":\n"
     ]
    },
    {
     "data": {
      "image/png": "[encoded data removed]",
      "text/plain": [
       "<Figure size 800x400 with 1 Axes>"
      ]
     },
     "metadata": {},
     "output_type": "display_data"
    }
   ],
   "source": [
    "n_points = 50\n",
    "expected_returns = returns.mean().values\n",
    "cov_matrix = returns.cov()\n",
    "\n",
    "# Plot the efficient frontier \n",
    "erk.plot_ef(n_points, expected_returns, cov_matrix, riskfree_rate= risk_free_rate,show_cml=True, show_ew=True, show_gmv=True, figsize=(8,4))\n",
    "plt.title(\"Efficient Frontier\")\n",
    "plt.xlabel(\"Volatility\")\n",
    "plt.ylabel(\"Expected Return\")\n",
    "plt.legend()\n",
    "plt.grid()\n",
    "plt.show()\n"
   ]
  },
  {
   "cell_type": "markdown",
   "metadata": {},
   "source": [
    "# CPPI Strategy"
   ]
  },
  {
   "cell_type": "code",
   "execution_count": 149,
   "metadata": {},
   "outputs": [],
   "source": [
    "# 4. CPPI Strategy\n",
    "cppi_results = erk.run_cppi(\n",
    "    risky_r=returns.mean(axis=1),  # Use the portfolio's average return as the risky asset\n",
    "    m=3,  # Multiplier\n",
    "    start=1000,  # Starting portfolio value\n",
    "    floor=0.8,  # 80% floor of starting value\n",
    "    riskfree_rate=risk_free_rate,\n",
    "    drawdown=0.25\n",
    ")\n",
    "cppi_wealth = cppi_results[\"Wealth\"].iloc[-1].mean()  # Final wealth for CPPI strategy"
   ]
  },
  {
   "cell_type": "code",
   "execution_count": 150,
   "metadata": {},
   "outputs": [
    {
     "data": {
      "image/png": "[encoded data removed]",
      "text/plain": [
       "<Figure size 1000x600 with 1 Axes>"
      ]
     },
     "metadata": {},
     "output_type": "display_data"
    }
   ],
   "source": [
    "cppi_results[\"Wealth\"].plot(title=\"CPPI Strategy - Portfolio Value\", figsize=(10, 6))\n",
    "plt.ylabel(\"Portfolio Value\")\n",
    "plt.grid()\n",
    "plt.show()"
   ]
  },
  {
   "cell_type": "markdown",
   "metadata": {},
   "source": [
    "Since, CPPI allcoates weights to risky and safe assets dynamically, it does not have fixed weights for assets over time. As suce Return and volatility for CPPI are not directly computer. We can only make an assumption based on previous returns and volatility"
   ]
  },
  {
   "cell_type": "code",
   "execution_count": 173,
   "metadata": {},
   "outputs": [
    {
     "name": "stdout",
     "output_type": "stream",
     "text": [
      "[0.0002893] [0.0062298]\n"
     ]
    }
   ],
   "source": [
    "# Calculate daily CPPI portfolio returns\n",
    "cppi_daily_returns = cppi_results[\"Wealth\"].pct_change().dropna()\n",
    "# Calculate CPPI return and volatility\n",
    "cppi_return = cppi_daily_returns.mean()\n",
    "cppi_volatility = cppi_daily_returns.std()\n",
    "print(cppi_return.values, cppi_volatility.values)"
   ]
  },
  {
   "cell_type": "markdown",
   "metadata": {},
   "source": [
    "# Summary Portfolio for Comparision"
   ]
  },
  {
   "cell_type": "code",
   "execution_count": 219,
   "metadata": {},
   "outputs": [],
   "source": [
    "# Assume an initial investment amount\n",
    "initial_value = 1000\n",
    "\n",
    "# 1. Equal Weight Portfolio\n",
    "port_ew_returns = returns @ weights_ew  # Portfolio returns\n",
    "final_wealth_ew = initial_value * (1 + port_ew_returns).prod()\n",
    "sharpe_ew = erk.sharpe_ratio(port_ew_returns, risk_free_rate, periods_per_year=252)\n",
    "max_drawdown_ew = erk.drawdown(port_ew_returns).Drawdown.min()\n",
    "\n",
    "# 2. GMV Portfolio\n",
    "port_gmv_returns = returns @ weights_gmv\n",
    "final_wealth_gmv = initial_value * (1 + port_gmv_returns).prod()\n",
    "sharpe_gmv = erk.sharpe_ratio(port_gmv_returns, risk_free_rate, periods_per_year=252)\n",
    "max_drawdown_gmv = erk.drawdown(port_gmv_returns).Drawdown.min()\n",
    "\n",
    "# 3. MSR Portfolio\n",
    "port_msr_returns = returns @ weights_msr\n",
    "final_wealth_msr = initial_value * (1 + port_msr_returns).prod()\n",
    "sharpe_msr = erk.sharpe_ratio(port_msr_returns, risk_free_rate, periods_per_year=252)\n",
    "max_drawdown_msr = erk.drawdown(port_msr_returns).Drawdown.min()\n",
    "\n",
    "# 4. CPPI Portfolio\n",
    "sharpe_cppi = erk.sharpe_ratio(cppi_daily_returns, risk_free_rate, periods_per_year=252).values\n",
    "max_drawdown_cppi = -cppi_results[\"drawdown\"]"
   ]
  },
  {
   "cell_type": "code",
   "execution_count": 220,
   "metadata": {},
   "outputs": [],
   "source": [
    "comparison = pd.DataFrame({\n",
    "    \"Strategy\": [\"Equal Weight\", \"Global Minimum Volatility\", \"Max Sharpe Ratio\", \"CPPI\"],\n",
    "    \"Return\": [port_return_ew, port_return_gmv, port_return_msr, np.nan],  # CPPI doesn't have a traditional return\n",
    "    \"Volatility\": [port_vol_ew, port_vol_gmv, port_vol_msr, np.nan],  # CPPI doesn't use volatility directly\n",
    "    \"Final Wealth\": [final_wealth_ew, final_wealth_gmv, final_wealth_msr, cppi_wealth],\n",
    "    \"Sharpe Ratio\": [sharpe_ew, sharpe_gmv, sharpe_msr, sharpe_cppi],\n",
    "    \"Max Drawdown\": [max_drawdown_ew, max_drawdown_gmv, max_drawdown_msr, max_drawdown_cppi],\n",
    "})"
   ]
  },
  {
   "cell_type": "code",
   "execution_count": 221,
   "metadata": {},
   "outputs": [
    {
     "data": {
      "text/html": [
       "<div>\n",
       "<style scoped>\n",
       "    .dataframe tbody tr th:only-of-type {\n",
       "        vertical-align: middle;\n",
       "    }\n",
       "\n",
       "    .dataframe tbody tr th {\n",
       "        vertical-align: top;\n",
       "    }\n",
       "\n",
       "    .dataframe thead th {\n",
       "        text-align: right;\n",
       "    }\n",
       "</style>\n",
       "<table border=\"1\" class=\"dataframe\">\n",
       "  <thead>\n",
       "    <tr style=\"text-align: right;\">\n",
       "      <th></th>\n",
       "      <th>Strategy</th>\n",
       "      <th>Return</th>\n",
       "      <th>Volatility</th>\n",
       "      <th>Final Wealth</th>\n",
       "      <th>Sharpe Ratio</th>\n",
       "      <th>Max Drawdown</th>\n",
       "    </tr>\n",
       "  </thead>\n",
       "  <tbody>\n",
       "    <tr>\n",
       "      <th>0</th>\n",
       "      <td>Equal Weight</td>\n",
       "      <td>0.000515</td>\n",
       "      <td>0.010209</td>\n",
       "      <td>3204.142806</td>\n",
       "      <td>0.763064</td>\n",
       "      <td>-0.235345</td>\n",
       "    </tr>\n",
       "    <tr>\n",
       "      <th>1</th>\n",
       "      <td>Global Minimum Volatility</td>\n",
       "      <td>0.000058</td>\n",
       "      <td>0.002032</td>\n",
       "      <td>1150.543535</td>\n",
       "      <td>0.436184</td>\n",
       "      <td>-0.112859</td>\n",
       "    </tr>\n",
       "    <tr>\n",
       "      <th>2</th>\n",
       "      <td>Max Sharpe Ratio</td>\n",
       "      <td>0.000693</td>\n",
       "      <td>0.007390</td>\n",
       "      <td>5333.377496</td>\n",
       "      <td>1.555964</td>\n",
       "      <td>-0.185914</td>\n",
       "    </tr>\n",
       "    <tr>\n",
       "      <th>3</th>\n",
       "      <td>CPPI</td>\n",
       "      <td>NaN</td>\n",
       "      <td>NaN</td>\n",
       "      <td>1984.909316</td>\n",
       "      <td>[0.71059658557362]</td>\n",
       "      <td>-0.250000</td>\n",
       "    </tr>\n",
       "  </tbody>\n",
       "</table>\n",
       "</div>"
      ],
      "text/plain": [
       "                    Strategy    Return  Volatility  Final Wealth  \\\n",
       "0               Equal Weight  0.000515    0.010209   3204.142806   \n",
       "1  Global Minimum Volatility  0.000058    0.002032   1150.543535   \n",
       "2           Max Sharpe Ratio  0.000693    0.007390   5333.377496   \n",
       "3                       CPPI       NaN         NaN   1984.909316   \n",
       "\n",
       "         Sharpe Ratio  Max Drawdown  \n",
       "0            0.763064     -0.235345  \n",
       "1            0.436184     -0.112859  \n",
       "2            1.555964     -0.185914  \n",
       "3  [0.71059658557362]     -0.250000  "
      ]
     },
     "execution_count": 221,
     "metadata": {},
     "output_type": "execute_result"
    }
   ],
   "source": [
    "comparison"
   ]
  },
  {
   "cell_type": "code",
   "execution_count": null,
   "metadata": {},
   "outputs": [],
   "source": []
  }
 ],
 "metadata": {
  "kernelspec": {
   "display_name": "Python 3",
   "language": "python",
   "name": "python3"
  },
  "language_info": {
   "codemirror_mode": {
    "name": "ipython",
    "version": 3
   },
   "file_extension": ".py",
   "mimetype": "text/x-python",
   "name": "python",
   "nbconvert_exporter": "python",
   "pygments_lexer": "ipython3",
   "version": "3.12.8"
  }
 },
 "nbformat": 4,
 "nbformat_minor": 2
}
